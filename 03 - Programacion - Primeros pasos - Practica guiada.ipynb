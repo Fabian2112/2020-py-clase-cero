{
 "cells": [
  {
   "cell_type": "markdown",
   "metadata": {
    "colab_type": "text",
    "id": "zci0FesjXqH4"
   },
   "source": [
    "# Programación - Primeros pasos"
   ]
  },
  {
   "cell_type": "markdown",
   "metadata": {
    "colab_type": "text",
    "id": "9FAgA8lCXqH6"
   },
   "source": [
    "Obviamente, se puede usar Python para tareas más complicadas que sumar 2 + 2. Por ejemplo, podemos escribir una secuencia de la serie de Fibonacci así:"
   ]
  },
  {
   "cell_type": "code",
   "execution_count": 2,
   "metadata": {
    "colab": {},
    "colab_type": "code",
    "id": "74F1GIYLXqH7"
   },
   "outputs": [
    {
     "name": "stdout",
     "output_type": "stream",
     "text": [
      "0\n",
      "1\n",
      "1\n",
      "2\n",
      "3\n",
      "5\n",
      "8\n"
     ]
    }
   ],
   "source": [
    "# Fibonacci series:\n",
    "# the sum of two elements defines the next\n",
    "a, b = 0, 1\n",
    "while a < 10:\n",
    "    print(a)\n",
    "    a, b = b, a + b"
   ]
  },
  {
   "cell_type": "markdown",
   "metadata": {
    "colab_type": "text",
    "id": "CFievQhCXqIA"
   },
   "source": [
    "Este ejemplo introduce las siguientes propiedades:\n",
    "\n",
    "Asignaciones múltiples: a a y a  b se les asignan simultáneamente los valores 0 y 1. En la última línea volvemos a hacerlo, demostrando que las expresiones del lado derecho se evalúan antes que las asignaciones. Se evalúan de izquierda a derecha.\n",
    "\n",
    "El bucle while se ejecuta mientras la condición (en este caso, a<10) permanezca siendo verdadera. En Python, al igual que en C, cualquier valor no nulo es verdadero. El cero es falso. La condición también puede ser una cadena o una  lista de valores, de hechoa, puede ser una secuencia cualquiera. El test usado en el ejemplo es una comparacuón simple. Los operadores de comparación standard se escriben igual que en C: < (menor que), > (mayor que), == (igual a), <= (menor o igual que), >= (mayor o igual que) y !=(distinto).\n",
    "\n",
    "El cuerpo del bucle está indentado: la identación es la forma de Python de agrupar sentencias. Hay que tipear la tecla tab o espacios para cada línea indentada. Cada línea dentro de un bloque básico debe estar igualmente   \n",
    "indentada."
   ]
  },
  {
   "cell_type": "markdown",
   "metadata": {
    "colab_type": "text",
    "id": "qoqQXZOEXqIB"
   },
   "source": [
    "Las cadenas se imprimen sin comillas y se inserta un espacio entre ítems. Por eso se le puede dar una formato agradable a la salida tal como:"
   ]
  },
  {
   "cell_type": "code",
   "execution_count": 1,
   "metadata": {
    "colab": {},
    "colab_type": "code",
    "id": "xiR31jGfXqIC"
   },
   "outputs": [
    {
     "name": "stdout",
     "output_type": "stream",
     "text": [
      "The value of i is 65536\n"
     ]
    }
   ],
   "source": [
    "i = 256 * 256\n",
    "print('The value of i is', i)"
   ]
  },
  {
   "cell_type": "markdown",
   "metadata": {
    "colab_type": "text",
    "id": "UBBSuBdaXqIH"
   },
   "source": [
    "La palabra reservada end se puede usar para evitar una nueva línea de salida o terminar la salida con una cadena diferente:"
   ]
  },
  {
   "cell_type": "code",
   "execution_count": 3,
   "metadata": {
    "colab": {},
    "colab_type": "code",
    "id": "DQ8EQYpdXqIJ"
   },
   "outputs": [
    {
     "name": "stdout",
     "output_type": "stream",
     "text": [
      "0,1,1,2,3,5,8,13,21,34,55,89,144,233,377,610,987,"
     ]
    }
   ],
   "source": [
    "a, b = 0, 1\n",
    "while a < 1000:\n",
    "    print(a, end=',' )\n",
    "    a, b = b, a + b"
   ]
  },
  {
   "cell_type": "code",
   "execution_count": null,
   "metadata": {},
   "outputs": [],
   "source": []
  }
 ],
 "metadata": {
  "colab": {
   "name": "03 - Programacion - Primeros pasos - Practica guiada.ipynb",
   "provenance": []
  },
  "kernelspec": {
   "display_name": "Python 3",
   "language": "python",
   "name": "python3"
  },
  "language_info": {
   "codemirror_mode": {
    "name": "ipython",
    "version": 3
   },
   "file_extension": ".py",
   "mimetype": "text/x-python",
   "name": "python",
   "nbconvert_exporter": "python",
   "pygments_lexer": "ipython3",
   "version": "3.7.6"
  }
 },
 "nbformat": 4,
 "nbformat_minor": 1
}
