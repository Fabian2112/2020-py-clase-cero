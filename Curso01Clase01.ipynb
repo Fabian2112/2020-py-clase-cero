{
 "cells": [
  {
   "cell_type": "markdown",
   "metadata": {},
   "source": [
    "# CURSO DE PROGRAMACIÓN PYTHON"
   ]
  },
  {
   "cell_type": "markdown",
   "metadata": {},
   "source": [
    "## Tipos de datos"
   ]
  },
  {
   "cell_type": "markdown",
   "metadata": {},
   "source": [
    "### La función type"
   ]
  },
  {
   "cell_type": "markdown",
   "metadata": {},
   "source": [
    "Vamos a comenzar con nuestra primera función, Y vamos a hacerlo probablemente por la más simple de todas, de facto, una metafunción: la función type().\n",
    "Fijémonos en cómo la hemos representado: con un paréntesis a la derecha del nombre. En Python, como en otros muchos lenguajes de programación, todas la funciones muestran siempre esta estructura básica: su nombre, en nuestro caso, type, y un paréntesis, (), en cuyo interior vamos a colocar el dato o los datos que la función necesita para devolver un resultado. A este dato o conjunto de datos se le denomina en Python ARGUMENTO DE LA FUNCIÓN. Lo veremos en ocasiones en su forma contraída como ARG, de \"argument\", en inglés.\n",
    "¿Y qué es una \"función\", por cierto? Pues un constructo semántico-sintáctico propio del lenguaje por el cuál Python \"sabe\" que tiene que hacer algo y proporcionar un resultado. Dicho de manera más simple y con menos boberías: una \"función\" es aquéllo que ponemos en nuestros programas para que éste haga cosas y \"funcione\". Mejor así, ¿verdad?\n",
    "De lo que acabamos de exponer deducimos que cuando \"llamamos\" o \"invocamos\" a la función type() que, como su nombre sugiere, y no hay que romperse mucho la cabeza para caer en la cuenta, se nos muestra el TIPO del dato que le \"pasamos como argumento\", recordemos, entre los paréntesis."
   ]
  },
  {
   "cell_type": "code",
   "execution_count": 12,
   "metadata": {},
   "outputs": [
    {
     "data": {
      "text/plain": [
       "float"
      ]
     },
     "execution_count": 12,
     "metadata": {},
     "output_type": "execute_result"
    }
   ],
   "source": [
    "type(1.2)"
   ]
  },
  {
   "cell_type": "markdown",
   "metadata": {},
   "source": [
    "probar con 0, 1.5, 5, \"Hola\",[],{},{1},(1,2)"
   ]
  },
  {
   "cell_type": "markdown",
   "metadata": {},
   "source": [
    "## Tipos booleanos: True y False\n",
    "Una variable booleana es una variable que sólo puede tomar dos posibles valores: True (verdadero) o False (falso).\n",
    "\n",
    "En Python cualquier variable (en general, cualquier objeto) puede considerarse como una variable booleana. En general los elementos nulos o vacíos se consideran False y el resto se consideran True."
   ]
  },
  {
   "cell_type": "code",
   "execution_count": 14,
   "metadata": {},
   "outputs": [
    {
     "data": {
      "text/plain": [
       "True"
      ]
     },
     "execution_count": 14,
     "metadata": {},
     "output_type": "execute_result"
    }
   ],
   "source": [
    "bool((1.2))"
   ]
  },
  {
   "cell_type": "markdown",
   "metadata": {},
   "source": [
    "probar con 1, 2, [], [0],{},{0},(),\"\",\"a\""
   ]
  },
  {
   "cell_type": "markdown",
   "metadata": {},
   "source": [
    "## Resolución de Expresiones"
   ]
  },
  {
   "cell_type": "markdown",
   "metadata": {},
   "source": [
    "operadores matemáticos: +, -, *, /, **, //, %"
   ]
  },
  {
   "cell_type": "markdown",
   "metadata": {},
   "source": [
    "Operadores relacionales: comparan dos expresiones y devuelven un bool. >,<,==,!=,>=,<="
   ]
  },
  {
   "cell_type": "markdown",
   "metadata": {},
   "source": [
    "Operadores relacionales: comparan dos expresiones y devuelven un bool.\n",
    "and,or, not, ^"
   ]
  },
  {
   "cell_type": "code",
   "execution_count": 25,
   "metadata": {},
   "outputs": [
    {
     "name": "stdout",
     "output_type": "stream",
     "text": [
      "[1, 2, 3]\n"
     ]
    }
   ],
   "source": [
    "lista = [1,2,3]\n",
    "print(lista)"
   ]
  },
  {
   "cell_type": "code",
   "execution_count": null,
   "metadata": {},
   "outputs": [],
   "source": []
  }
 ],
 "metadata": {
  "kernelspec": {
   "display_name": "Python 3",
   "language": "python",
   "name": "python3"
  },
  "language_info": {
   "codemirror_mode": {
    "name": "ipython",
    "version": 3
   },
   "file_extension": ".py",
   "mimetype": "text/x-python",
   "name": "python",
   "nbconvert_exporter": "python",
   "pygments_lexer": "ipython3",
   "version": "3.7.6"
  }
 },
 "nbformat": 4,
 "nbformat_minor": 2
}
