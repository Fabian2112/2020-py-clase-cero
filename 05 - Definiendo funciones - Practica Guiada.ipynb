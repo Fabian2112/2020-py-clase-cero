{
 "cells": [
  {
   "cell_type": "markdown",
   "metadata": {
    "colab_type": "text",
    "id": "gL0s4EyDZYCh"
   },
   "source": [
    "# Definiendo funciones"
   ]
  },
  {
   "cell_type": "markdown",
   "metadata": {
    "colab_type": "text",
    "id": "Q2ACXcmVZYCi"
   },
   "source": [
    "Podemos crear una función que escriba la serie de Fibonacci hasta un límite determinado:"
   ]
  },
  {
   "cell_type": "code",
   "execution_count": 5,
   "metadata": {
    "colab": {},
    "colab_type": "code",
    "id": "MRRdLatcZYCj"
   },
   "outputs": [],
   "source": [
    "def acci(n):  # escribe la serie de Fibonacci hasta n\n",
    "    \"\"\"Escribe la serie de Fibonacci hasta n.\"\"\"\n",
    "    a, b = 0, 1\n",
    "    while a < n:\n",
    "        print(a, end=' ')\n",
    "        a, b = b, a+b\n",
    "    print()"
   ]
  },
  {
   "cell_type": "code",
   "execution_count": 6,
   "metadata": {
    "colab": {},
    "colab_type": "code",
    "id": "gaUeTE7QZYCn",
    "scrolled": true
   },
   "outputs": [
    {
     "name": "stdout",
     "output_type": "stream",
     "text": [
      "0 1 1 2 3 5 8 13 21 34 55 89 144 233 377 610 987 1597 \n"
     ]
    }
   ],
   "source": [
    "# Ahora llamamos a la funcion que acabamos de definir:\n",
    "acci(2000)"
   ]
  },
  {
   "cell_type": "markdown",
   "metadata": {
    "colab_type": "text",
    "id": "2IOV1yeHZYCr"
   },
   "source": [
    "La palabra reservada def se usa para definir funciones. Debe seguirle el nombre de la función y la lista de parámetros formales entre paréntesis. Las sentencias que forman el cuerpo de la función empiezan en la línea siguiente, y deben estar con sangría.\n",
    "\n",
    "La primer sentencia del cuerpo de la función puede ser opcionalmente una cadena de texto literal; esta es la cadena de texto de documentación de la función, o docstring. \n",
    "\n",
    "Hay herramientas que usan las docstrings para producir automáticamente documentación en línea o imprimible, o para permitirle al usuario que navegue el código en forma interactiva; es una buena práctica incluir docstrings en el código que uno escribe, por lo que se debe hacer un hábito de esto.\n",
    "\n",
    "La ejecución de una función introduce una nueva tabla de símbolos usada para las variables locales de la función. Más precisamente, todas las asignaciones de variables en la función almacenan el valor en la tabla de símbolos local; así mismo la referencia a variables primero mira la tabla de símbolos local, luego en la tabla de símbolos local de las funciones externas, luego la tabla de símbolos global, y finalmente la tabla de nombres predefinidos. Así, no se les puede asignar directamente un valor a las variables globales dentro de una función (a menos se las nombre en la sentencia global), aunque si pueden ser referenciadas.\n",
    "\n",
    "Los parámetros reales (argumentos) de una función se introducen en la tabla de símbolos local de la función llamada cuando esta es ejecutada; así, los argumentos son pasados por valor (dónde el valor es siempre una referencia a un objeto, no el valor del objeto).En realidad, llamadas por referencia de objeto sería una mejor descripción, ya que si se pasa un objeto mutable, quien realiza la llamada verá cualquier cambio que se realice sobre el mismo (por ejemplo ítems insertados en una lista). Cuando una función llama a otra función, una nueva tabla de símbolos local es creada para esa llamada.\n",
    "\n",
    "La definición de una función introduce el nombre de la función en la tabla de símbolos actual. El valor del nombre de la función tiene un tipo que es reconocido por el intérprete como una función definida por el usuario. Este valor puede ser asignado a otro nombre que luego puede ser usado como una función. Esto sirve como un mecanismo general para renombrar:"
   ]
  },
  {
   "cell_type": "code",
   "execution_count": 7,
   "metadata": {
    "colab": {},
    "colab_type": "code",
    "id": "8q9P7mS9ZYCs",
    "outputId": "b961fda3-5af5-47dc-cb99-931ad3db37e4"
   },
   "outputs": [
    {
     "data": {
      "text/plain": [
       "<function __main__.fib(n)>"
      ]
     },
     "execution_count": 7,
     "metadata": {},
     "output_type": "execute_result"
    }
   ],
   "source": [
    "fib"
   ]
  },
  {
   "cell_type": "code",
   "execution_count": 8,
   "metadata": {
    "colab": {},
    "colab_type": "code",
    "id": "FjAqMtw1ZYCv"
   },
   "outputs": [
    {
     "name": "stdout",
     "output_type": "stream",
     "text": [
      "0 1 1 2 3 5 8 13 21 34 55 89 \n"
     ]
    }
   ],
   "source": [
    "f = fib\n",
    "f(100)"
   ]
  },
  {
   "cell_type": "code",
   "execution_count": 0,
   "metadata": {
    "colab": {},
    "colab_type": "code",
    "id": "_atuK90NZn4N"
   },
   "outputs": [],
   "source": []
  },
  {
   "cell_type": "markdown",
   "metadata": {
    "colab_type": "text",
    "id": "l-fZYCkQZYCy"
   },
   "source": [
    "Viniendo de otros lenguajes, podés objetar que fib no es una función, sino un procedimiento, porque no devuelve un valor. De hecho, técnicamente hablando, los procedimientos sí retornan un valor, aunque uno aburrido. Este valor se llama None (es un nombre predefinido). El intérprete por lo general no escribe el valor None si va a ser el único valor escrito. Si realmente se quiere, se puede verlo usando la función print():"
   ]
  },
  {
   "cell_type": "code",
   "execution_count": 0,
   "metadata": {
    "colab": {},
    "colab_type": "code",
    "id": "Tak4amH_ZYCy",
    "outputId": "5aa0d9a5-d0a2-495b-9801-f56f31f0f7e5"
   },
   "outputs": [
    {
     "name": "stdout",
     "output_type": "stream",
     "text": [
      "\n"
     ]
    }
   ],
   "source": [
    "fib(0)"
   ]
  },
  {
   "cell_type": "code",
   "execution_count": 0,
   "metadata": {
    "colab": {},
    "colab_type": "code",
    "id": "c5heSECRZYC1"
   },
   "outputs": [],
   "source": [
    "print(fib(0))"
   ]
  },
  {
   "cell_type": "markdown",
   "metadata": {
    "colab_type": "text",
    "id": "yeJMQXncZYC5"
   },
   "source": [
    "Es simple escribir una función que retorne una lista con los números de la serie de Fibonacci en lugar de imprimirlos:"
   ]
  },
  {
   "cell_type": "code",
   "execution_count": 0,
   "metadata": {
    "colab": {},
    "colab_type": "code",
    "id": "qgta5FEIZYC5"
   },
   "outputs": [],
   "source": [
    "def fib2(n): \n",
    "    # devuelve la serie de Fibonacci hasta n\"\"\"Devuelve una lista conteniendo la serie de Fibonacci hasta n.\"\"\"\n",
    "    result = []\n",
    "    a, b = 0, 1\n",
    "    while a < n:\n",
    "        result.append(a)    # ver abajo\n",
    "        a, b = b, a+b\n",
    "    return result"
   ]
  },
  {
   "cell_type": "code",
   "execution_count": 0,
   "metadata": {
    "colab": {},
    "colab_type": "code",
    "id": "d5PQf0n9ZYC8"
   },
   "outputs": [],
   "source": [
    "f100 = fib2(100)    # llamarla\n",
    "f100                # escribir el resultado"
   ]
  },
  {
   "cell_type": "markdown",
   "metadata": {
    "colab_type": "text",
    "id": "CmMoOrViZYDC"
   },
   "source": [
    "Este ejemplo, como es usual, demuestra algunas características más de Python:\n",
    "\n",
    "La sentencia return devuelve un valor en una función. return sin una expresión como argumento retorna None. Si se alcanza el final de una función, también se retorna None.\n",
    "La sentencia result.append(a) llama a un método del objeto lista result. Un método es una función que ‘pertenece’ a un objeto y se nombra obj.methodname, dónde obj es algún objeto (puede ser una expresión), y methodname es el nombre del método que está definido por el tipo del objeto. Distintos tipos definen distintos métodos. Métodos de diferentes tipos pueden tener el mismo nombre sin causar ambigüedad. (Es posible definir tipos de objetos propios, y métodos, usando clases, mirá Clases). El método append() mostrado en el ejemplo está definido para objetos lista; añade un nuevo elemento al final de la lista. En este ejemplo es equivalente a result = result + [a], pero más eficiente."
   ]
  },
  {
   "cell_type": "markdown",
   "metadata": {
    "colab_type": "text",
    "id": "5TYEj26MZYDC"
   },
   "source": [
    "# Más sobre definición de funciones"
   ]
  },
  {
   "cell_type": "markdown",
   "metadata": {
    "colab_type": "text",
    "id": "JugvWBjcZYDD"
   },
   "source": [
    "También es posible definir funciones con un número variable de argumentos. Hay tres formas que pueden ser combinadas."
   ]
  },
  {
   "cell_type": "markdown",
   "metadata": {
    "colab_type": "text",
    "id": "yLNRCkQBZYDD"
   },
   "source": [
    "## Argumentos con valores por omisión"
   ]
  },
  {
   "cell_type": "markdown",
   "metadata": {
    "colab_type": "text",
    "id": "w8ENF_Z_ZYDE"
   },
   "source": [
    "La forma más útil es especificar un valor por omisión para uno o más argumentos. Esto crea una función que puede ser llamada con menos argumentos que los que permite. Por ejemplo:"
   ]
  },
  {
   "cell_type": "code",
   "execution_count": 0,
   "metadata": {
    "colab": {},
    "colab_type": "code",
    "id": "Mcha0RDYZYDE"
   },
   "outputs": [],
   "source": [
    "def pedir_confirmacion(prompt, reintentos=4, recordatorio='Por favor, intente nuevamente!'):\n",
    "    while True:\n",
    "        ok = input(prompt)\n",
    "        if ok in ('s', 'S', 'si', 'Si', 'SI'):\n",
    "            return True\n",
    "        if ok in ('n', 'no', 'No', 'NO'):\n",
    "            return False\n",
    "        reintentos = reintentos - 1\n",
    "        if reintentos < 0:\n",
    "            raise ValueError('respuesta de usuario inválida')\n",
    "        print(recordatorio)"
   ]
  },
  {
   "cell_type": "markdown",
   "metadata": {
    "colab_type": "text",
    "id": "cUJkMmlfZYDH"
   },
   "source": [
    "Esta función puede ser llamada de distintas maneras:\n",
    "\n",
    "pasando sólo el argumento obligatorio: pedir_confirmacion('¿Realmente queres salir?')\n",
    "pasando uno de los argumentos opcionales: pedir_confirmacion('¿Sobreescribir archivo?', 2)\n",
    "o pasando todos los argumentos: pedir_confirmacion('¿Sobreescribir archivo?', 2, \"Vamos, solo si o no!)\n",
    "Este ejemplo también introduce la palabra reservada in, la cual prueba si una secuencia contiene o no un determinado valor.\n",
    "\n",
    "Los valores por omisión son evaluados en el momento de la definición de la función, en el ámbito de la definición, entonces:"
   ]
  },
  {
   "cell_type": "code",
   "execution_count": 0,
   "metadata": {
    "colab": {},
    "colab_type": "code",
    "id": "BM40CRtMZYDI"
   },
   "outputs": [],
   "source": [
    "i = 5\n",
    "\n",
    "def f(arg=i):\n",
    "    print(arg)\n",
    "\n",
    "i = 6\n",
    "f()"
   ]
  },
  {
   "cell_type": "markdown",
   "metadata": {
    "colab_type": "text",
    "id": "WswO8-VhZYDL"
   },
   "source": [
    "...imprimirá 5.\n",
    "\n",
    "**Advertencia importante: ** El valor por omisión es evaluado solo una vez. Existe una diferencia cuando el valor por omisión es un objeto mutable como una lista, diccionario, o instancia de la mayoría de las clases. Por ejemplo, la siguiente función acumula los argumentos que se le pasan en subsiguientes llamadas:"
   ]
  },
  {
   "cell_type": "code",
   "execution_count": 0,
   "metadata": {
    "colab": {},
    "colab_type": "code",
    "id": "ukmhTxezZYDM"
   },
   "outputs": [],
   "source": [
    "def f(a, L=[]):\n",
    "    L.append(a)\n",
    "    return L\n",
    "\n",
    "print(f(1))\n",
    "print(f(2))\n",
    "print(f(3))"
   ]
  },
  {
   "cell_type": "code",
   "execution_count": 0,
   "metadata": {
    "colab": {},
    "colab_type": "code",
    "id": "x6hcUKTQZYDO"
   },
   "outputs": [],
   "source": [
    "def f(a, L=None):\n",
    "    if L is None:\n",
    "        L = []\n",
    "    L.append(a)\n",
    "    return L\n",
    "\n",
    "print(f(1))\n",
    "print(f(2))\n",
    "print(f(3))"
   ]
  },
  {
   "cell_type": "markdown",
   "metadata": {
    "colab_type": "text",
    "id": "5ketHaegZYDQ"
   },
   "source": [
    "## Palabras claves como argumentos"
   ]
  },
  {
   "cell_type": "markdown",
   "metadata": {
    "colab_type": "text",
    "id": "0icO4QlRZYDR"
   },
   "source": [
    "Las funciones también puede ser llamadas usando argumentos de palabras clave (o argumentos nombrados) de la forma keyword = value. Por ejemplo, la siguiente función:"
   ]
  },
  {
   "cell_type": "code",
   "execution_count": 0,
   "metadata": {
    "colab": {},
    "colab_type": "code",
    "id": "H8NXq9yHZYDR"
   },
   "outputs": [],
   "source": [
    "def loro(tension, estado='muerto', accion='explotar', tipo='Azul Nordico'):\n",
    "    print(\"-- Este loro no va a\", accion, end=' ')\n",
    "    print(\"si le aplicás\", tension, \"voltios.\")\n",
    "    print(\"-- Gran plumaje tiene el\", tipo)\n",
    "    print(\"-- Está\", estado, \"!\")"
   ]
  },
  {
   "cell_type": "markdown",
   "metadata": {
    "colab_type": "text",
    "id": "cM1v6UmGZYDT"
   },
   "source": [
    "...acepta un argumento obligatorio (tension) y tres argumentos opcionales (estado, accion, y tipo). Esta función puede llamarse de cualquiera de las siguientes maneras:"
   ]
  },
  {
   "cell_type": "code",
   "execution_count": 0,
   "metadata": {
    "colab": {},
    "colab_type": "code",
    "id": "v6e6qU_GZYDU"
   },
   "outputs": [],
   "source": [
    "loro(1000)                                          # 1 argumento posicional\n",
    "loro(tension=1000)                                  # 1 argumento nombrado\n",
    "loro(tension=1000000, accion='VOOOOOM')             # 2 argumentos nombrados\n",
    "loro(accion='VOOOOOM', tension=1000000)             # 2 argumentos nombrados\n",
    "loro('un millón', 'despojado de vida', 'saltar')    # 3 args posicionales\n",
    "loro('mil', estado='viendo crecer las flores desde abajo')  # uno y uno"
   ]
  },
  {
   "cell_type": "markdown",
   "metadata": {
    "colab_type": "text",
    "id": "vjPvo6Z2ZYDX"
   },
   "source": [
    "...pero estas otras llamadas serían todas inválidas:"
   ]
  },
  {
   "cell_type": "code",
   "execution_count": 0,
   "metadata": {
    "colab": {},
    "colab_type": "code",
    "id": "97NP1VcqZYDX"
   },
   "outputs": [],
   "source": [
    "loro()                      # falta argumento obligatorio\n",
    "loro(tension=5.0, 'muerto') # argumento posicional luego de uno nombrado\n",
    "loro(110, tension=220)      # valor duplicado para el mismo argumento\n",
    "loro(actor='Juan Garau')    # nombre del argumento desconocido"
   ]
  },
  {
   "cell_type": "markdown",
   "metadata": {
    "colab_type": "text",
    "id": "AnR1iNFEZYDa"
   },
   "source": [
    "En una llamada a una función, los argumentos nombrados deben seguir a los argumentos posicionales. Cada uno de los argumentos nombrados pasados deben coincidir con un argumento aceptado por la función (por ejemplo, actor no es un argumento válido para la función loro), y el orden de los mismos no es importante. Esto también se aplica a los argumentos obligatorios (por ejemplo, loro(tension=1000) también es válido). Ningún argumento puede recibir más de un valor al mismo tiempo. Aquí hay un ejemplo que falla debido a esta restricción:"
   ]
  },
  {
   "cell_type": "code",
   "execution_count": 0,
   "metadata": {
    "colab": {},
    "colab_type": "code",
    "id": "C_JtPKZKZYDb"
   },
   "outputs": [],
   "source": [
    "def funcion(a):\n",
    "    pass\n",
    "funcion(0, a=0)"
   ]
  },
  {
   "cell_type": "markdown",
   "metadata": {
    "colab_type": "text",
    "id": "UdU6ll14ZYDd"
   },
   "source": [
    "## Parámetros con la forma \\*\\*nombre y \\*nombre"
   ]
  },
  {
   "cell_type": "markdown",
   "metadata": {
    "colab_type": "text",
    "id": "4lRQmYgCZYDe"
   },
   "source": [
    "Cuando un parámetro formal de la forma **\\*\\*nombre** está presente al final, recibe un diccionario (ver Tipos integrados) conteniendo todos los argumentos nombrados excepto aquellos correspondientes a un parámetro formal. Esto puede ser combinado con un parámetro formal de la forma **\\*nombre** (descripto en la siguiente sección) que recibe una tupla conteniendo los argumentos posicionales además de la lista de parámetros formales. (**\\*nombre** debe ocurrir antes de **\\*\\*nombre**). Por ejemplo, si definimos una función así:"
   ]
  },
  {
   "cell_type": "code",
   "execution_count": 0,
   "metadata": {
    "colab": {},
    "colab_type": "code",
    "id": "77RUE2giZYDe"
   },
   "outputs": [],
   "source": [
    "def ventadequeso(tipo, *argumentos, **palabrasclaves):\n",
    "    print(\"-- ¿Tiene\", tipo, \"?\")\n",
    "    print(\"-- Lo siento, nos quedamos sin\", tipo)\n",
    "    for arg in argumentos:\n",
    "        print(arg)\n",
    "    print(\"-\" * 40)\n",
    "    for c in palabrasclaves:\n",
    "        print(c, \":\", palabrasclaves[c])"
   ]
  },
  {
   "cell_type": "markdown",
   "metadata": {
    "colab_type": "text",
    "id": "hBIRoJJYZYDg"
   },
   "source": [
    "Puede ser llamada así:"
   ]
  },
  {
   "cell_type": "code",
   "execution_count": 0,
   "metadata": {
    "colab": {},
    "colab_type": "code",
    "id": "ftGIoPoaZYDg"
   },
   "outputs": [],
   "source": [
    "ventadequeso(\"Limburger\", \"Es muy liquido, sr.\",\n",
    "             \"Realmente es muy muy liquido, sr.\",\n",
    "             cliente=\"Juan Garau\",\n",
    "             vendedor=\"Miguel Paez\",\n",
    "             puesto=\"Venta de Queso Argentino\")"
   ]
  },
  {
   "cell_type": "markdown",
   "metadata": {
    "colab_type": "text",
    "id": "yYytJ7lSZYDi"
   },
   "source": [
    "Se debe notar que el orden en el cual los argumentos nombrados son impresos está garantizado para coincidir con el orden en el cual fueron provistos en la llamada a la función."
   ]
  }
 ],
 "metadata": {
  "colab": {
   "name": "05 - Definiendo funciones - Practica Guiada.ipynb",
   "provenance": []
  },
  "kernelspec": {
   "display_name": "Python 3",
   "language": "python",
   "name": "python3"
  },
  "language_info": {
   "codemirror_mode": {
    "name": "ipython",
    "version": 3
   },
   "file_extension": ".py",
   "mimetype": "text/x-python",
   "name": "python",
   "nbconvert_exporter": "python",
   "pygments_lexer": "ipython3",
   "version": "3.7.6"
  }
 },
 "nbformat": 4,
 "nbformat_minor": 1
}
