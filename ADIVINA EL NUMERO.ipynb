{
 "cells": [
  {
   "cell_type": "code",
   "execution_count": null,
   "metadata": {},
   "outputs": [],
   "source": [
    "import random\n",
    "def adivina_el_numero():\n",
    "    numero_a_adivinar = random.randint(1,11)\n",
    "    while True:\n",
    "        numero_ingresado_por_usuario = int(input(\"Ingresa un numero entre 1 y 10\\n\"))\n",
    "        if numero_a_adivinar == numero_ingresado_por_usuario:\n",
    "            print (\"Adivinaste el numero\")\n",
    "            break\n",
    "        elif numero_a_adivinar > numero_ingresado_por_usuario:\n",
    "            print (\"El numero ingresado es menor que el numero a adivinar\")\n",
    "            continue\n",
    "        elif numero_a_adivinar < numero_ingresado_por_usuario:\n",
    "            print (\"El numero ingresado es mayor que el numero a adivinar\")\n",
    "            continue\n",
    "if __name__ == '__main__':\n",
    "    adivina_el_numero()"
   ]
  },
  {
   "cell_type": "code",
   "execution_count": null,
   "metadata": {
    "collapsed": true
   },
   "outputs": [],
   "source": []
  },
  {
   "cell_type": "code",
   "execution_count": null,
   "metadata": {},
   "outputs": [],
   "source": [
    "lista = [1,2,3]\n",
    "print(lista)"
   ]
  },
  {
   "cell_type": "code",
   "execution_count": null,
   "metadata": {
    "collapsed": true
   },
   "outputs": [],
   "source": []
  }
 ],
 "metadata": {
  "kernelspec": {
   "display_name": "Python 3",
   "language": "python",
   "name": "python3"
  },
  "language_info": {
   "codemirror_mode": {
    "name": "ipython",
    "version": 3
   },
   "file_extension": ".py",
   "mimetype": "text/x-python",
   "name": "python",
   "nbconvert_exporter": "python",
   "pygments_lexer": "ipython3",
   "version": "3.7.6"
  }
 },
 "nbformat": 4,
 "nbformat_minor": 4
}
