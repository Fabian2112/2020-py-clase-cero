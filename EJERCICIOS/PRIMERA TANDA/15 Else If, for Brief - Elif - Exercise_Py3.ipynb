{
 "cells": [
  {
   "cell_type": "markdown",
   "metadata": {
    "colab_type": "text",
    "id": "YcVmyzYgh75C"
   },
   "source": [
    "## Else if,  - ELIF"
   ]
  },
  {
   "cell_type": "code",
   "execution_count": 1,
   "metadata": {},
   "outputs": [],
   "source": [
    "def compare_to_five(y):\n",
    "    if y > 5:\n",
    "        return \"Greater\"\n",
    "    elif y < 5:\n",
    "        return \"Less\"\n",
    "    else:\n",
    "        return \"Equal\""
   ]
  },
  {
   "cell_type": "code",
   "execution_count": 2,
   "metadata": {},
   "outputs": [
    {
     "name": "stdout",
     "output_type": "stream",
     "text": [
      "Greater\n"
     ]
    }
   ],
   "source": [
    "print (compare_to_five(10))"
   ]
  },
  {
   "cell_type": "code",
   "execution_count": 3,
   "metadata": {},
   "outputs": [
    {
     "name": "stdout",
     "output_type": "stream",
     "text": [
      "Less\n"
     ]
    }
   ],
   "source": [
    "print (compare_to_five(2))"
   ]
  },
  {
   "cell_type": "code",
   "execution_count": 4,
   "metadata": {},
   "outputs": [
    {
     "name": "stdout",
     "output_type": "stream",
     "text": [
      "Equal\n"
     ]
    }
   ],
   "source": [
    "print (compare_to_five(5))"
   ]
  },
  {
   "cell_type": "code",
   "execution_count": 5,
   "metadata": {},
   "outputs": [],
   "source": [
    "def compare_to_five(y):\n",
    "    if y > 5:\n",
    "        return \"Greater\"\n",
    "    elif y < 0:\n",
    "        return \"Negative\"\n",
    "    elif y < 5:          \n",
    "        return \"Less\"\n",
    "    else:\n",
    "        return \"Equal\""
   ]
  },
  {
   "cell_type": "code",
   "execution_count": 6,
   "metadata": {},
   "outputs": [
    {
     "name": "stdout",
     "output_type": "stream",
     "text": [
      "Negative\n"
     ]
    }
   ],
   "source": [
    "print (compare_to_five(-3))"
   ]
  },
  {
   "cell_type": "code",
   "execution_count": 7,
   "metadata": {},
   "outputs": [
    {
     "name": "stdout",
     "output_type": "stream",
     "text": [
      "Less\n"
     ]
    }
   ],
   "source": [
    "print (compare_to_five(3)) "
   ]
  },
  {
   "cell_type": "code",
   "execution_count": 8,
   "metadata": {},
   "outputs": [],
   "source": [
    "def compare_to_five(y):\n",
    "    if y > 5:\n",
    "        return \"Greater\"\n",
    "    elif y < 5:\n",
    "        return \"Less\"\n",
    "    elif y < 0:          \n",
    "        return \"Negative\"\n",
    "    else:\n",
    "        return \"Equal\""
   ]
  },
  {
   "cell_type": "code",
   "execution_count": 9,
   "metadata": {},
   "outputs": [
    {
     "name": "stdout",
     "output_type": "stream",
     "text": [
      "Less\n"
     ]
    }
   ],
   "source": [
    "print (compare_to_five(-3))"
   ]
  },
  {
   "cell_type": "code",
   "execution_count": 10,
   "metadata": {},
   "outputs": [
    {
     "name": "stdout",
     "output_type": "stream",
     "text": [
      "Less\n"
     ]
    }
   ],
   "source": [
    "print (compare_to_five(3))"
   ]
  },
  {
   "cell_type": "markdown",
   "metadata": {},
   "source": [
    "# TAREA"
   ]
  },
  {
   "cell_type": "markdown",
   "metadata": {
    "colab_type": "text",
    "id": "OHY4Lprah75H"
   },
   "source": [
    "Asignar 200 a x.\n",
    "Crear el siguiente código:\n",
    "\n",
    "If x > 200, mostrar \"Big\"; \n",
    "If x > 100 and x <= 200, motrar \"Average\"; \n",
    "y If x <= 100, mostrar \"Small\".\n",
    "Usar If, Elif, y Else."
   ]
  },
  {
   "cell_type": "code",
   "execution_count": null,
   "metadata": {
    "colab": {},
    "colab_type": "code",
    "id": "H3ZMzkIHh75M"
   },
   "outputs": [],
   "source": []
  },
  {
   "cell_type": "markdown",
   "metadata": {
    "colab_type": "text",
    "id": "tOz_ytGYh75W"
   },
   "source": [
    "Cambiar el valor inicial de x para ver como varía la salida"
   ]
  },
  {
   "cell_type": "markdown",
   "metadata": {
    "colab_type": "text",
    "id": "rO5Xnwpsh75d"
   },
   "source": [
    "Mantener las primeras dos condiciones del código anterior. Agregar una sentencia ELIF que, eventualmente, haga que el programa muestre \"Small\" si x >= 0 y x <= 100, y \"Negative\" si x < 0. \n",
    "Modificar x a valores de 50 y -50 para probar el código."
   ]
  },
  {
   "cell_type": "code",
   "execution_count": null,
   "metadata": {},
   "outputs": [],
   "source": []
  },
  {
   "cell_type": "code",
   "execution_count": 11,
   "metadata": {},
   "outputs": [
    {
     "name": "stdout",
     "output_type": "stream",
     "text": [
      "Incorrect\n"
     ]
    }
   ],
   "source": [
    "x = 2\n",
    "if x > 4:\n",
    "    print (\"Correct\")\n",
    "else:\n",
    "    print (\"Incorrect\")"
   ]
  },
  {
   "cell_type": "code",
   "execution_count": 12,
   "metadata": {},
   "outputs": [],
   "source": [
    "def simple():\n",
    "    print (\"My first function\")"
   ]
  },
  {
   "cell_type": "code",
   "execution_count": 13,
   "metadata": {},
   "outputs": [
    {
     "name": "stdout",
     "output_type": "stream",
     "text": [
      "My first function\n"
     ]
    }
   ],
   "source": [
    "simple()"
   ]
  }
 ],
 "metadata": {
  "colab": {
   "name": "15 Else If, for Brief - Elif - Exercise_Py3.ipynb",
   "provenance": [],
   "version": "0.3.2"
  },
  "kernelspec": {
   "display_name": "Python 3",
   "language": "python",
   "name": "python3"
  },
  "language_info": {
   "codemirror_mode": {
    "name": "ipython",
    "version": 3
   },
   "file_extension": ".py",
   "mimetype": "text/x-python",
   "name": "python",
   "nbconvert_exporter": "python",
   "pygments_lexer": "ipython3",
   "version": "3.6.4"
  }
 },
 "nbformat": 4,
 "nbformat_minor": 1
}
